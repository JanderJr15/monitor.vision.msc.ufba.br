{
 "cells": [
  {
   "cell_type": "code",
   "execution_count": 1,
   "id": "20235169-b9d5-48de-89ad-5fd9c320e29a",
   "metadata": {},
   "outputs": [],
   "source": [
    "# # Dependency, para instalar descomente a linha abaixo\n",
    "# !pip install paho-mqtt"
   ]
  },
  {
   "cell_type": "code",
   "id": "37dc453c-3ae3-4c37-8557-e1367a39c750",
   "metadata": {
    "ExecuteTime": {
     "end_time": "2024-12-11T18:34:15.855920Z",
     "start_time": "2024-12-11T18:34:15.844343Z"
    }
   },
   "source": [
    "import json, os\n",
    "import paho.mqtt.publish as publish"
   ],
   "outputs": [],
   "execution_count": 1
  },
  {
   "cell_type": "markdown",
   "id": "45fea68a-e294-423e-b6db-7711ea306560",
   "metadata": {},
   "source": [
    "### publish"
   ]
  },
  {
   "cell_type": "code",
   "id": "eb6ee85f-d250-4829-ac59-b7e82ac91b71",
   "metadata": {
    "ExecuteTime": {
     "end_time": "2024-12-11T18:34:17.493714Z",
     "start_time": "2024-12-11T18:34:17.490384Z"
    }
   },
   "source": [
    "# Define Variables\n",
    "MQTT_HOST = \"localhost\"\n",
    "MQTT_PORT = 1883\n",
    "# MQTT_KEEPALIVE_INTERVAL = 45\n",
    "MQTT_TOPIC = \"env1234541/vision\""
   ],
   "outputs": [],
   "execution_count": 2
  },
  {
   "cell_type": "markdown",
   "id": "83af83a1-1b8e-4679-94e9-3b21ad1aa924",
   "metadata": {},
   "source": [
    "### Teste - 1 - Imagem Drive\n",
    "* https://drive.google.com/file/d/183gk1XoNyqKMAMpYkyTArAteGjHl_3il/view?usp=sharing"
   ]
  },
  {
   "cell_type": "code",
   "id": "ca15146c-8524-4dc9-a642-1dbf9cd22fa6",
   "metadata": {
    "ExecuteTime": {
     "end_time": "2024-12-11T18:34:20.219263Z",
     "start_time": "2024-12-11T18:34:20.216752Z"
    }
   },
   "source": [
    "dado = {\n",
    "    \"device\": \"SALA_CAMERA_01\",\n",
    "    \"devId\": \"disp0990sdf09s90sdf098s\",\n",
    "    \"productKey\": \"fs0s0sd9ss9\",\n",
    "    \"space\": \"SALA\",\n",
    "    \"message\": {\"status\": [{\"code\": \"url\", \"t\": 1712138400.0, \"value\": \"https://drive.google.com/file/d/183gk1XoNyqKMAMpYkyTArAteGjHl_3il/view?usp=sharing\"}]},\n",
    "    \"sensorType\": \"camera\",\n",
    "    \"timeStamp\": \"2024-04-03 07:00:00.233460\"\n",
    "}\n",
    "\n",
    "dado_json = json.dumps(dado)"
   ],
   "outputs": [],
   "execution_count": 3
  },
  {
   "cell_type": "code",
   "id": "4795dc6b-0c4d-46cb-857a-230992b1022d",
   "metadata": {
    "jupyter": {
     "is_executing": true
    },
    "ExecuteTime": {
     "start_time": "2024-12-11T18:34:22.760486Z"
    }
   },
   "source": [
    "# Opção para escutar no terminal\n",
    "# mosquitto_sub -h 172.30.104.129 -p 1883 -t env1234541/vision\n",
    "# mosquitto_sub -h 172.30.104.129 -p 1883 -t env1234541/devices\n",
    "\n",
    "publish.single(MQTT_TOPIC, dado_json, hostname=MQTT_HOST, port=MQTT_PORT)"
   ],
   "outputs": [],
   "execution_count": null
  },
  {
   "cell_type": "markdown",
   "id": "b03676db-9e60-4b7c-a71f-f2bfda8b89ab",
   "metadata": {},
   "source": [
    "### Teste - 2\n",
    "* Link Quebrado"
   ]
  },
  {
   "cell_type": "code",
   "execution_count": 6,
   "id": "79c4487f-4187-4026-a4e1-99e4e5488a14",
   "metadata": {},
   "outputs": [],
   "source": [
    "dado = {\n",
    "    \"device\": \"SALA_CAMERA_01\",\n",
    "    \"devId\": \"disp0990sdf09s90sdf098s\",\n",
    "    \"productKey\": \"fs0s0sd9ss9\",\n",
    "    \"space\": \"SALA\",\n",
    "    \"message\": {\"status\": [{\"code\": \"url\", \"t\": 1712138400.0, \"value\": \"https://drive.usercontent.google.com/download?id=1PKI_L6_ec5G8MpDxyPRMGfjkIH_RTeAS\"}]},\n",
    "    \"sensorType\": \"camera\",\n",
    "    \"timeStamp\": \"2024-04-03 07:00:00.233460\"\n",
    "}\n",
    "\n",
    "dado_json = json.dumps(dado)"
   ]
  },
  {
   "cell_type": "code",
   "execution_count": 7,
   "id": "98ffcd8c-e3c7-46de-aa41-7ef8a1a9543b",
   "metadata": {},
   "outputs": [],
   "source": [
    "# Opção para escutar no terminal\n",
    "# mosquitto_sub -h 192.168.1.192 -p 1884 -t env1234541/vision\n",
    "# mosquitto_sub -h 192.168.1.192 -p 1884 -t env1234541/devices\n",
    "\n",
    "publish.single(MQTT_TOPIC, dado_json, hostname=MQTT_HOST, port=MQTT_PORT)"
   ]
  },
  {
   "cell_type": "markdown",
   "id": "af14f8c5-a0f5-4292-a57c-018cc8171c18",
   "metadata": {},
   "source": [
    "### Teste - 3\n",
    "* https://drive.usercontent.google.com/download?id=1iRnlDEurcOvOhFuvBcMSmcoCB5NXLf6v"
   ]
  },
  {
   "cell_type": "code",
   "execution_count": 8,
   "id": "d56c277f-1f95-464d-906a-0377062bb436",
   "metadata": {},
   "outputs": [],
   "source": [
    "dado = {\n",
    "    \"device\": \"SALA_CAMERA_01\",\n",
    "    \"devId\": \"disp0990sdf09s90sdf098s\",\n",
    "    \"productKey\": \"fs0s0sd9ss9\",\n",
    "    \"space\": \"SALA\",\n",
    "    \"message\": {\"status\": [{\"code\": \"url\", \"t\": 1712138400.0, \"value\": \"https://drive.usercontent.google.com/download?id=1iRnlDEurcOvOhFuvBcMSmcoCB5NXLf6v\"}]},\n",
    "    \"sensorType\": \"camera\",\n",
    "    \"timeStamp\": \"2024-04-03 07:00:00.233460\"\n",
    "}\n",
    "\n",
    "dado_json = json.dumps(dado)"
   ]
  },
  {
   "cell_type": "code",
   "execution_count": 9,
   "id": "428a7d20-4760-48c9-bb9b-84a7a090d04c",
   "metadata": {},
   "outputs": [],
   "source": [
    "publish.single(MQTT_TOPIC, dado_json, hostname=MQTT_HOST, port=MQTT_PORT)"
   ]
  },
  {
   "cell_type": "markdown",
   "id": "ea6b478d-aab1-4258-a922-0cd4423c7073",
   "metadata": {},
   "source": [
    "### Teste - 3.2 - Imagem Drive Arma\n",
    "* https://drive.usercontent.google.com/download?id=1wnSaiHBrgvy6R1BufQgCbDWJ0SZ7VcXD"
   ]
  },
  {
   "cell_type": "code",
   "execution_count": 10,
   "id": "15546c0c-75df-4b39-b8da-534180b336fd",
   "metadata": {},
   "outputs": [],
   "source": [
    "dado = {\n",
    "    \"device\": \"SALA_CAMERA_01\",\n",
    "    \"devId\": \"disp0990sdf09s90sdf098s\",\n",
    "    \"productKey\": \"fs0s0sd9ss9\",\n",
    "    \"space\": \"SALA\",\n",
    "    \"message\": {\"status\": [{\"code\": \"url\", \"t\": 1712138400.0, \"value\": \"https://drive.usercontent.google.com/download?id=1wnSaiHBrgvy6R1BufQgCbDWJ0SZ7VcXD\"}]},\n",
    "    \"sensorType\": \"camera\",\n",
    "    \"timeStamp\": \"2024-04-03 07:00:00.233460\"\n",
    "}\n",
    "\n",
    "dado_json = json.dumps(dado)"
   ]
  },
  {
   "cell_type": "code",
   "execution_count": 11,
   "id": "985d1482-0f2d-4156-a2e9-3c03715b9c96",
   "metadata": {},
   "outputs": [],
   "source": [
    "publish.single(MQTT_TOPIC, dado_json, hostname=MQTT_HOST, port=MQTT_PORT)"
   ]
  },
  {
   "cell_type": "markdown",
   "id": "ac1289cf-6d8c-4451-89f4-354573898c2b",
   "metadata": {},
   "source": [
    "### Teste - 4 - Imagem Drive Câmera Computador LAB\n",
    "* https://drive.usercontent.google.com/download?id=1AlHK8WLaKR1ETJVXdCGOTma1JZqFtGa3&export=view&authuser=0"
   ]
  },
  {
   "cell_type": "code",
   "execution_count": 12,
   "id": "3eb2ccae-4f84-4e0d-9be7-9c1691e4be3e",
   "metadata": {},
   "outputs": [],
   "source": [
    "dado = {\n",
    "    \"device\": \"SALA_CAMERA_01\",\n",
    "    \"devId\": \"disp0990sdf09s90sdf098s\",\n",
    "    \"productKey\": \"fs0s0sd9ss9\",\n",
    "    \"space\": \"SALA\",\n",
    "    \"message\": {\"status\": [{\"code\": \"url\", \"t\": 1712138400.0, \"value\": \"https://drive.usercontent.google.com/download?id=1AlHK8WLaKR1ETJVXdCGOTma1JZqFtGa3&export=view&authuser=0\"}]},\n",
    "    \"sensorType\": \"camera\",\n",
    "    \"timeStamp\": \"2024-04-03 07:00:00.233460\"\n",
    "}\n",
    "\n",
    "dado_json = json.dumps(dado)"
   ]
  },
  {
   "cell_type": "code",
   "execution_count": 13,
   "id": "95e2fdc6-1e30-4c19-b578-85e7f3363143",
   "metadata": {},
   "outputs": [],
   "source": [
    "publish.single(MQTT_TOPIC, dado_json, hostname=MQTT_HOST, port=MQTT_PORT)"
   ]
  },
  {
   "cell_type": "markdown",
   "id": "6699a4e1-5ff2-46b1-b008-1b7d6124e491",
   "metadata": {},
   "source": [
    "### Teste - Final - Imagem do diretório\n"
   ]
  },
  {
   "cell_type": "code",
   "execution_count": 14,
   "id": "c7de39cd-0e77-4ddd-a29e-9b31c92dbeb9",
   "metadata": {},
   "outputs": [],
   "source": [
    "# dado = {\n",
    "#     \"device\": \"SALA_CAMERA_01\",\n",
    "#     \"devId\": \"disp0990sdf09s90sdf098s\",\n",
    "#     \"productKey\": \"fs0s0sd9ss9\",\n",
    "#     \"space\": \"SALA\",\n",
    "#     \"message\": {\"status\": [{\"code\": \"url\", \"t\": 1712138400.0, \"value\": \"img_teste.jpg\"}]},\n",
    "#     \"sensorType\": \"camera\",\n",
    "#     \"timeStamp\": \"2024-04-03 07:00:00.233460\"\n",
    "# }\n",
    "\n",
    "# dado_json = json.dumps(dado)"
   ]
  },
  {
   "cell_type": "code",
   "execution_count": 15,
   "id": "8a0488f4-d352-442f-afc2-7d91d2f86598",
   "metadata": {},
   "outputs": [],
   "source": [
    "# publish.single(MQTT_TOPIC, dado_json, hostname=MQTT_HOST, port=MQTT_PORT)"
   ]
  }
 ],
 "metadata": {
  "kernelspec": {
   "display_name": "Python 3 (ipykernel)",
   "language": "python",
   "name": "python3"
  },
  "language_info": {
   "codemirror_mode": {
    "name": "ipython",
    "version": 3
   },
   "file_extension": ".py",
   "mimetype": "text/x-python",
   "name": "python",
   "nbconvert_exporter": "python",
   "pygments_lexer": "ipython3",
   "version": "3.11.9"
  }
 },
 "nbformat": 4,
 "nbformat_minor": 5
}
