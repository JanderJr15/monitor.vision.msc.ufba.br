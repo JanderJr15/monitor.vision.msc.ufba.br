{
 "cells": [
  {
   "cell_type": "code",
   "id": "initial_id",
   "metadata": {
    "collapsed": true,
    "ExecuteTime": {
     "end_time": "2024-12-13T11:43:07.232928Z",
     "start_time": "2024-12-13T11:43:07.212525Z"
    }
   },
   "source": [
    "import paho.mqtt.client as mqtt\n",
    "\n",
    "# Configurações do broker MQTT\n",
    "MQTT_HOST = \"localhost\"  # O mesmo host do seu script de publicação\n",
    "MQTT_PORT = 1884         # A mesma porta do seu script de publicação\n",
    "MQTT_TOPIC = \"monitor/metrics\"  # O tópico usado para publicação"
   ],
   "outputs": [],
   "execution_count": 1
  },
  {
   "metadata": {
    "ExecuteTime": {
     "end_time": "2024-12-13T11:46:32.433574Z",
     "start_time": "2024-12-13T11:43:26.149363Z"
    }
   },
   "cell_type": "code",
   "source": [
    "# Callback executado quando conectado ao broker\n",
    "def on_connect(client, userdata, flags, rc):\n",
    "    if rc == 0:\n",
    "        print(\"Conectado ao broker com sucesso!\")\n",
    "        client.subscribe(MQTT_TOPIC)  # Inscrever-se no tópico\n",
    "        print(f\"Inscrito no tópico: {MQTT_TOPIC}\")\n",
    "    else:\n",
    "        print(f\"Erro ao conectar. Código de retorno: {rc}\")\n",
    "\n",
    "# Callback executado quando uma mensagem é recebida\n",
    "def on_message(client, userdata, msg):\n",
    "    print(f\"Mensagem recebida no tópico {msg.topic}: {msg.payload.decode()}\")\n",
    "\n",
    "# Configurando o cliente MQTT\n",
    "client = mqtt.Client()\n",
    "client.on_connect = on_connect\n",
    "client.on_message = on_message\n",
    "\n",
    "try:\n",
    "    client.connect(MQTT_HOST, MQTT_PORT, 60)  # Conectando ao broker\n",
    "    client.loop_forever()  # Mantém a conexão ativa para ouvir mensagens\n",
    "except Exception as e:\n",
    "    print(f\"Erro ao conectar ao broker MQTT: {e}\")"
   ],
   "id": "db7f04c7ac6b7d85",
   "outputs": [
    {
     "name": "stderr",
     "output_type": "stream",
     "text": [
      "/tmp/ipykernel_113652/3116087390.py:15: DeprecationWarning: Callback API version 1 is deprecated, update to latest version\n",
      "  client = mqtt.Client()\n"
     ]
    },
    {
     "name": "stdout",
     "output_type": "stream",
     "text": [
      "Conectado ao broker com sucesso!\n",
      "Inscrito no tópico: monitor/metrics\n",
      "Mensagem recebida no tópico monitor/metrics: {\"task_name\": \"video_capture.py\", \"pid\": 113693, \"cpu_usage\": 195.9, \"memory_usage\": 1448198144}\n",
      "Mensagem recebida no tópico monitor/metrics: {\"task_name\": \"video_capture.py\", \"pid\": 113693, \"cpu_usage\": 614.4, \"memory_usage\": 2143322112}\n",
      "Mensagem recebida no tópico monitor/metrics: {\"task_name\": \"video_capture.py\", \"pid\": 113693, \"cpu_usage\": 662.8, \"memory_usage\": 2129174528}\n",
      "Mensagem recebida no tópico monitor/metrics: {\"task_name\": \"video_capture.py\", \"pid\": 113693, \"cpu_usage\": 638.8, \"memory_usage\": 2156417024}\n",
      "Mensagem recebida no tópico monitor/metrics: {\"task_name\": \"video_capture.py\", \"pid\": 113693, \"cpu_usage\": 721.9, \"memory_usage\": 2158411776}\n",
      "Mensagem recebida no tópico monitor/metrics: {\"task_name\": \"video_capture.py\", \"pid\": 113693, \"cpu_usage\": 610.8, \"memory_usage\": 2132320256}\n",
      "Mensagem recebida no tópico monitor/metrics: {\"task_name\": \"video_capture.py\", \"pid\": 113693, \"cpu_usage\": 631.9, \"memory_usage\": 2161950720}\n",
      "Mensagem recebida no tópico monitor/metrics: {\"task_name\": \"video_capture.py\", \"pid\": 113693, \"cpu_usage\": 663.0, \"memory_usage\": 2162741248}\n",
      "Mensagem recebida no tópico monitor/metrics: {\"task_name\": \"video_capture.py\", \"pid\": 113693, \"cpu_usage\": 701.9, \"memory_usage\": 2162561024}\n",
      "Mensagem recebida no tópico monitor/metrics: {\"task_name\": \"video_capture.py\", \"pid\": 113693, \"cpu_usage\": 693.2, \"memory_usage\": 2138394624}\n",
      "Mensagem recebida no tópico monitor/metrics: {\"task_name\": \"video_capture.py\", \"pid\": 113693, \"cpu_usage\": 659.9, \"memory_usage\": 2163687424}\n",
      "Mensagem recebida no tópico monitor/metrics: {\"task_name\": \"video_capture.py\", \"pid\": 113693, \"cpu_usage\": 669.3, \"memory_usage\": 2164719616}\n",
      "Mensagem recebida no tópico monitor/metrics: {\"task_name\": \"video_capture.py\", \"pid\": 113693, \"cpu_usage\": 652.4, \"memory_usage\": 2165698560}\n",
      "Mensagem recebida no tópico monitor/metrics: {\"task_name\": \"video_capture.py\", \"pid\": 113693, \"cpu_usage\": 664.8, \"memory_usage\": 2137817088}\n",
      "Mensagem recebida no tópico monitor/metrics: {\"task_name\": \"video_capture.py\", \"pid\": 113693, \"cpu_usage\": 666.9, \"memory_usage\": 2166321152}\n",
      "Mensagem recebida no tópico monitor/metrics: {\"task_name\": \"video_capture.py\", \"pid\": 113693, \"cpu_usage\": 578.7, \"memory_usage\": 2166390784}\n",
      "Mensagem recebida no tópico monitor/metrics: {\"task_name\": \"video_capture.py\", \"pid\": 113693, \"cpu_usage\": 714.8, \"memory_usage\": 2166284288}\n",
      "Mensagem recebida no tópico monitor/metrics: {\"task_name\": \"video_capture.py\", \"pid\": 113693, \"cpu_usage\": 677.8, \"memory_usage\": 2128175104}\n",
      "Mensagem recebida no tópico monitor/metrics: {\"task_name\": \"video_capture.py\", \"pid\": 113693, \"cpu_usage\": 675.9, \"memory_usage\": 2166820864}\n",
      "Mensagem recebida no tópico monitor/metrics: {\"task_name\": \"video_capture.py\", \"pid\": 113693, \"cpu_usage\": 713.8, \"memory_usage\": 2166902784}\n",
      "Mensagem recebida no tópico monitor/metrics: {\"task_name\": \"video_capture.py\", \"pid\": 113693, \"cpu_usage\": 643.8, \"memory_usage\": 2167533568}\n",
      "Mensagem recebida no tópico monitor/metrics: {\"task_name\": \"video_capture.py\", \"pid\": 113693, \"cpu_usage\": 632.6, \"memory_usage\": 2118520832}\n",
      "Mensagem recebida no tópico monitor/metrics: {\"task_name\": \"video_capture.py\", \"pid\": 113693, \"cpu_usage\": 646.8, \"memory_usage\": 2167320576}\n",
      "Mensagem recebida no tópico monitor/metrics: {\"task_name\": \"video_capture.py\", \"pid\": 113693, \"cpu_usage\": 597.8, \"memory_usage\": 2167312384}\n",
      "Mensagem recebida no tópico monitor/metrics: {\"task_name\": \"video_capture.py\", \"pid\": 113693, \"cpu_usage\": 641.6, \"memory_usage\": 2167435264}\n",
      "Mensagem recebida no tópico monitor/metrics: {\"task_name\": \"video_capture.py\", \"pid\": 113693, \"cpu_usage\": 370.9, \"memory_usage\": 2167754752}\n",
      "Mensagem recebida no tópico monitor/metrics: {\"task_name\": \"video_capture.py\", \"pid\": 113693, \"cpu_usage\": 652.8, \"memory_usage\": 2168066048}\n",
      "Mensagem recebida no tópico monitor/metrics: {\"task_name\": \"video_capture.py\", \"pid\": 113693, \"cpu_usage\": 677.8, \"memory_usage\": 2153336832}\n",
      "Mensagem recebida no tópico monitor/metrics: {\"task_name\": \"video_capture.py\", \"pid\": 113693, \"cpu_usage\": 656.7, \"memory_usage\": 2168279040}\n",
      "Mensagem recebida no tópico monitor/metrics: {\"task_name\": \"video_capture.py\", \"pid\": 113693, \"cpu_usage\": 628.8, \"memory_usage\": 2168446976}\n",
      "Mensagem recebida no tópico monitor/metrics: {\"task_name\": \"video_capture.py\", \"pid\": 113693, \"cpu_usage\": 555.8, \"memory_usage\": 2168434688}\n"
     ]
    },
    {
     "ename": "KeyboardInterrupt",
     "evalue": "",
     "output_type": "error",
     "traceback": [
      "\u001B[0;31m---------------------------------------------------------------------------\u001B[0m",
      "\u001B[0;31mKeyboardInterrupt\u001B[0m                         Traceback (most recent call last)",
      "Cell \u001B[0;32mIn[2], line 21\u001B[0m\n\u001B[1;32m     19\u001B[0m \u001B[38;5;28;01mtry\u001B[39;00m:\n\u001B[1;32m     20\u001B[0m     client\u001B[38;5;241m.\u001B[39mconnect(MQTT_HOST, MQTT_PORT, \u001B[38;5;241m60\u001B[39m)  \u001B[38;5;66;03m# Conectando ao broker\u001B[39;00m\n\u001B[0;32m---> 21\u001B[0m     \u001B[43mclient\u001B[49m\u001B[38;5;241;43m.\u001B[39;49m\u001B[43mloop_forever\u001B[49m\u001B[43m(\u001B[49m\u001B[43m)\u001B[49m  \u001B[38;5;66;03m# Mantém a conexão ativa para ouvir mensagens\u001B[39;00m\n\u001B[1;32m     22\u001B[0m \u001B[38;5;28;01mexcept\u001B[39;00m \u001B[38;5;167;01mException\u001B[39;00m \u001B[38;5;28;01mas\u001B[39;00m e:\n\u001B[1;32m     23\u001B[0m     \u001B[38;5;28mprint\u001B[39m(\u001B[38;5;124mf\u001B[39m\u001B[38;5;124m\"\u001B[39m\u001B[38;5;124mErro ao conectar ao broker MQTT: \u001B[39m\u001B[38;5;132;01m{\u001B[39;00me\u001B[38;5;132;01m}\u001B[39;00m\u001B[38;5;124m\"\u001B[39m)\n",
      "File \u001B[0;32m~/.cache/pypoetry/virtualenvs/monitor-argus-liaa-ufba-br-xZ5FgeVp-py3.11/lib/python3.11/site-packages/paho/mqtt/client.py:2297\u001B[0m, in \u001B[0;36mClient.loop_forever\u001B[0;34m(self, timeout, retry_first_connection)\u001B[0m\n\u001B[1;32m   2295\u001B[0m rc \u001B[38;5;241m=\u001B[39m MQTTErrorCode\u001B[38;5;241m.\u001B[39mMQTT_ERR_SUCCESS\n\u001B[1;32m   2296\u001B[0m \u001B[38;5;28;01mwhile\u001B[39;00m rc \u001B[38;5;241m==\u001B[39m MQTTErrorCode\u001B[38;5;241m.\u001B[39mMQTT_ERR_SUCCESS:\n\u001B[0;32m-> 2297\u001B[0m     rc \u001B[38;5;241m=\u001B[39m \u001B[38;5;28;43mself\u001B[39;49m\u001B[38;5;241;43m.\u001B[39;49m\u001B[43m_loop\u001B[49m\u001B[43m(\u001B[49m\u001B[43mtimeout\u001B[49m\u001B[43m)\u001B[49m\n\u001B[1;32m   2298\u001B[0m     \u001B[38;5;66;03m# We don't need to worry about locking here, because we've\u001B[39;00m\n\u001B[1;32m   2299\u001B[0m     \u001B[38;5;66;03m# either called loop_forever() when in single threaded mode, or\u001B[39;00m\n\u001B[1;32m   2300\u001B[0m     \u001B[38;5;66;03m# in multi threaded mode when loop_stop() has been called and\u001B[39;00m\n\u001B[1;32m   2301\u001B[0m     \u001B[38;5;66;03m# so no other threads can access _out_packet or _messages.\u001B[39;00m\n\u001B[1;32m   2302\u001B[0m     \u001B[38;5;28;01mif\u001B[39;00m (\u001B[38;5;28mself\u001B[39m\u001B[38;5;241m.\u001B[39m_thread_terminate \u001B[38;5;129;01mis\u001B[39;00m \u001B[38;5;28;01mTrue\u001B[39;00m\n\u001B[1;32m   2303\u001B[0m         \u001B[38;5;129;01mand\u001B[39;00m \u001B[38;5;28mlen\u001B[39m(\u001B[38;5;28mself\u001B[39m\u001B[38;5;241m.\u001B[39m_out_packet) \u001B[38;5;241m==\u001B[39m \u001B[38;5;241m0\u001B[39m\n\u001B[1;32m   2304\u001B[0m             \u001B[38;5;129;01mand\u001B[39;00m \u001B[38;5;28mlen\u001B[39m(\u001B[38;5;28mself\u001B[39m\u001B[38;5;241m.\u001B[39m_out_messages) \u001B[38;5;241m==\u001B[39m \u001B[38;5;241m0\u001B[39m):\n",
      "File \u001B[0;32m~/.cache/pypoetry/virtualenvs/monitor-argus-liaa-ufba-br-xZ5FgeVp-py3.11/lib/python3.11/site-packages/paho/mqtt/client.py:1663\u001B[0m, in \u001B[0;36mClient._loop\u001B[0;34m(self, timeout)\u001B[0m\n\u001B[1;32m   1660\u001B[0m     rlist \u001B[38;5;241m=\u001B[39m [\u001B[38;5;28mself\u001B[39m\u001B[38;5;241m.\u001B[39m_sock, \u001B[38;5;28mself\u001B[39m\u001B[38;5;241m.\u001B[39m_sockpairR]\n\u001B[1;32m   1662\u001B[0m \u001B[38;5;28;01mtry\u001B[39;00m:\n\u001B[0;32m-> 1663\u001B[0m     socklist \u001B[38;5;241m=\u001B[39m select\u001B[38;5;241m.\u001B[39mselect(rlist, wlist, [], timeout)\n\u001B[1;32m   1664\u001B[0m \u001B[38;5;28;01mexcept\u001B[39;00m \u001B[38;5;167;01mTypeError\u001B[39;00m:\n\u001B[1;32m   1665\u001B[0m     \u001B[38;5;66;03m# Socket isn't correct type, in likelihood connection is lost\u001B[39;00m\n\u001B[1;32m   1666\u001B[0m     \u001B[38;5;66;03m# ... or we called disconnect(). In that case the socket will\u001B[39;00m\n\u001B[0;32m   (...)\u001B[0m\n\u001B[1;32m   1669\u001B[0m     \u001B[38;5;66;03m# rc != MQTT_ERR_SUCCESS and we don't want state to change from\u001B[39;00m\n\u001B[1;32m   1670\u001B[0m     \u001B[38;5;66;03m# mqtt_cs_disconnecting.\u001B[39;00m\n\u001B[1;32m   1671\u001B[0m     \u001B[38;5;28;01mif\u001B[39;00m \u001B[38;5;28mself\u001B[39m\u001B[38;5;241m.\u001B[39m_state \u001B[38;5;129;01mnot\u001B[39;00m \u001B[38;5;129;01min\u001B[39;00m (_ConnectionState\u001B[38;5;241m.\u001B[39mMQTT_CS_DISCONNECTING, _ConnectionState\u001B[38;5;241m.\u001B[39mMQTT_CS_DISCONNECTED):\n",
      "\u001B[0;31mKeyboardInterrupt\u001B[0m: "
     ]
    }
   ],
   "execution_count": 2
  }
 ],
 "metadata": {
  "kernelspec": {
   "display_name": "Python 3",
   "language": "python",
   "name": "python3"
  },
  "language_info": {
   "codemirror_mode": {
    "name": "ipython",
    "version": 2
   },
   "file_extension": ".py",
   "mimetype": "text/x-python",
   "name": "python",
   "nbconvert_exporter": "python",
   "pygments_lexer": "ipython2",
   "version": "2.7.6"
  }
 },
 "nbformat": 4,
 "nbformat_minor": 5
}
